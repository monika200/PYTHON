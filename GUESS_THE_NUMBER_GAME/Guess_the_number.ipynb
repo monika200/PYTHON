{
 "cells": [
  {
   "cell_type": "code",
   "execution_count": 1,
   "metadata": {},
   "outputs": [
    {
     "name": "stdout",
     "output_type": "stream",
     "text": [
      "Hello! What is your name?\n",
      "Monika\n",
      "Well, Monika, I am thinking of a number between 1 and 20.\n",
      "Take a guess.\n",
      "20\n",
      "Your guess is too high.\n",
      "Take a guess.\n",
      "15\n",
      "Your guess is too high.\n",
      "Take a guess.\n",
      "10\n",
      "Your guess is too low.\n",
      "Take a guess.\n",
      "12\n",
      "Your guess is too high.\n",
      "Take a guess.\n",
      "11\n",
      "Good job, Monika! You guessed my number in 5 guesses!\n"
     ]
    }
   ],
   "source": [
    "# This is a Guess the Number game.\n",
    "import random\n",
    " \n",
    "guessesTaken = 0\n",
    " \n",
    "print('Hello! What is your name?')\n",
    "myName = input()\n",
    " \n",
    "number = random.randint(1, 20)\n",
    "print('Well, ' + myName + ', I am thinking of a number between 1 and 20.')\n",
    "\n",
    "for guessesTaken in range(6):\n",
    "    print('Take a guess.') # Four spaces in front of \"print\"\n",
    "    guess = input()\n",
    "    guess = int(guess)\n",
    "\n",
    "    if guess < number:\n",
    "      print('Your guess is too low.') # Eight spaces in front of \"print\"\n",
    "\n",
    "    if guess > number:\n",
    "      print('Your guess is too high.')\n",
    "\n",
    "    if guess == number:\n",
    "       break\n",
    "\n",
    "if guess == number:\n",
    "     guessesTaken = str(guessesTaken + 1)\n",
    "     print('Good job, ' + myName + '! You guessed my number in ' +\n",
    "          guessesTaken + ' guesses!')\n",
    "\n",
    "if guess != number:\n",
    "     number = str(number)\n",
    "     print('Nope. The number I was thinking of was ' + number + '.')\n"
   ]
  },
  {
   "cell_type": "code",
   "execution_count": null,
   "metadata": {},
   "outputs": [],
   "source": []
  }
 ],
 "metadata": {
  "kernelspec": {
   "display_name": "Python 3",
   "language": "python",
   "name": "python3"
  },
  "language_info": {
   "codemirror_mode": {
    "name": "ipython",
    "version": 3
   },
   "file_extension": ".py",
   "mimetype": "text/x-python",
   "name": "python",
   "nbconvert_exporter": "python",
   "pygments_lexer": "ipython3",
   "version": "3.7.6"
  }
 },
 "nbformat": 4,
 "nbformat_minor": 4
}
