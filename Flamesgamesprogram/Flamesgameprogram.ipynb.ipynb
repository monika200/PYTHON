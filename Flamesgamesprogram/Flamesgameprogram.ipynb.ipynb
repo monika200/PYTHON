{
 "cells": [
  {
   "cell_type": "code",
   "execution_count": 2,
   "metadata": {},
   "outputs": [
    {
     "name": "stdout",
     "output_type": "stream",
     "text": [
      "Enter the name1:Monika\n",
      "Enter the name2:Nitesh\n",
      "monika\n",
      "nitesh\n",
      "8\n",
      "relationship is: Friends\n"
     ]
    }
   ],
   "source": [
    "name1=input(\"Enter the name1:\").lower()# This will return the names in lower case\n",
    "name2=input(\"Enter the name2:\").lower()\n",
    "name1 = name1.replace(\" \",\"\")# to replace whitespace between names\n",
    "name2 = name2.replace(\" \",\"\")\n",
    "print(name1)\n",
    "print(name2)\n",
    "#to find out the common character we need to compare each character name1 with name2 so for that I will use loops\n",
    "for i in name1:\n",
    "    for j in name2:\n",
    "        if i==j:\n",
    "            name1 = name1.replace(i,\"\",1)\n",
    "            name2 = name2.replace(i,\"\",1)#Replace will replace allthe occurence of the given character that why I mention the count here that means replace only one occurence of that given character\n",
    "            break#if i=j than we need to replace the name and we need to go to thebegining of the first for loop\n",
    "count= len(name1+name2)\n",
    "print(count)\n",
    "\n",
    "#we need to find out the relationship between these two name using this count value\n",
    "\n",
    "if count>0:\n",
    "    list1= [\"Friends\",\"Lovers\",\"Affectionate\",\"Marriage\",\"Enemies\",\"Siblings\"]\n",
    "    while len(list1)>1:\n",
    "        c=count%len(list1)#which character we want to delete from the list\n",
    "        s_index=c-1#this is because here our index starts from 0\n",
    "        if s_index>=0:#for deletingwe will use slicing operationa nad than we concatenate \n",
    "              left =list1[:s_index]\n",
    "              right =list1[s_index+1:]\n",
    "              #concatenate\n",
    "              list1=left+right\n",
    "        else:\n",
    "              list1=list1[:len(list1)-1]#-1 is because index starts from 0\n",
    "    print(\"relationship is:\",list1[0])\n",
    "else:\n",
    "    print(\"Enter different name\")\n"
   ]
  },
  {
   "cell_type": "code",
   "execution_count": null,
   "metadata": {},
   "outputs": [],
   "source": []
  }
 ],
 "metadata": {
  "kernelspec": {
   "display_name": "Python 3",
   "language": "python",
   "name": "python3"
  },
  "language_info": {
   "codemirror_mode": {
    "name": "ipython",
    "version": 3
   },
   "file_extension": ".py",
   "mimetype": "text/x-python",
   "name": "python",
   "nbconvert_exporter": "python",
   "pygments_lexer": "ipython3",
   "version": "3.7.6"
  }
 },
 "nbformat": 4,
 "nbformat_minor": 4
}
