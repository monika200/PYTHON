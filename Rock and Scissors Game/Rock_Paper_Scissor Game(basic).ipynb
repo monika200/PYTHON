{
 "cells": [
  {
   "cell_type": "code",
   "execution_count": 2,
   "metadata": {},
   "outputs": [
    {
     "name": "stdout",
     "output_type": "stream",
     "text": [
      "Type your choice for Rock \"R\" for paper \"P\" for scissors \"S\" : p\n",
      "\n",
      "\n",
      "Invalid Choice.\n",
      "Computer choose Paper.\n",
      "\n",
      "\n",
      "You Won.\n"
     ]
    }
   ],
   "source": [
    "# -: importing Libraries :-\n",
    "import random as r\n",
    "\n",
    "# -: Asking user input :-\n",
    "user_choice = input('Type your choice for Rock \"R\" for paper \"P\" for scissors \"S\" : ')\n",
    "computer_choice = r.choice([\"P\", \"R\", \"S\"])\n",
    "\n",
    "# -: Checking user input valid or not if valid then tell him/her what he/she choose :-\n",
    "print('\\n')\n",
    "\n",
    "if 'R' in user_choice:\n",
    "    print('You choose Rock.')\n",
    "elif \"P\" in user_choice:\n",
    "    print('You choose Paper.')\n",
    "elif \"S\" in user_choice:\n",
    "    print('You choose Scissors.')\n",
    "else:\n",
    "    print('Invalid Choice.')\n",
    "\n",
    "# -: Tell user what computer choose :-\n",
    "if \"R\" in computer_choice:\n",
    "    print('Computer choose Rock.')\n",
    "elif \"P\" in computer_choice:\n",
    "    print('Computer choose Paper.')\n",
    "else:\n",
    "    print('Computer choose Scissors.')\n",
    "\n",
    "\n",
    "#  -: Check Who won computer or user :- \n",
    "print('\\n')\n",
    "    # if user choose Rock as \"R\"\n",
    "if user_choice == 'R':\n",
    "    if computer_choice == \"R\":\n",
    "        print('Draw.')\n",
    "    elif computer_choice == \"P\":\n",
    "        print('Computer Won.')\n",
    "    else:\n",
    "        print('You won.')\n",
    "\n",
    "\n",
    "    # if user choose Paper as \"P\"\n",
    "\n",
    "elif user_choice == 'P':\n",
    "    if computer_choice == 'P':\n",
    "        print('Draw.')\n",
    "    elif computer_choice == 'R':\n",
    "        print('You won.')\n",
    "    else:\n",
    "        print('Computer won.')\n",
    "\n",
    " \n",
    "    # if user choose Scissors as \"S\"\n",
    "\n",
    "else:\n",
    "    if computer_choice == 'S':\n",
    "        print('Draw.')\n",
    "    elif computer_choice == 'R':\n",
    "        print('Computer won.')\n",
    "    else:\n",
    "        print('You Won.')"
   ]
  },
  {
   "cell_type": "code",
   "execution_count": null,
   "metadata": {},
   "outputs": [],
   "source": []
  }
 ],
 "metadata": {
  "kernelspec": {
   "display_name": "Python 3",
   "language": "python",
   "name": "python3"
  },
  "language_info": {
   "codemirror_mode": {
    "name": "ipython",
    "version": 3
   },
   "file_extension": ".py",
   "mimetype": "text/x-python",
   "name": "python",
   "nbconvert_exporter": "python",
   "pygments_lexer": "ipython3",
   "version": "3.7.6"
  }
 },
 "nbformat": 4,
 "nbformat_minor": 4
}
